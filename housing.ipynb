{
  "nbformat": 4,
  "nbformat_minor": 0,
  "metadata": {
    "colab": {
      "name": "housing.ipynb",
      "provenance": [],
      "collapsed_sections": [],
      "toc_visible": true
    },
    "kernelspec": {
      "name": "python3",
      "display_name": "Python 3"
    }
  },
  "cells": [
    {
      "cell_type": "markdown",
      "metadata": {
        "id": "uv9R4TXLjJBK"
      },
      "source": [
        "#California Housing Price Prediction"
      ]
    },
    {
      "cell_type": "markdown",
      "metadata": {
        "id": "6IICDy1vKy-D"
      },
      "source": [
        "**Problem**:To predict the selling price of a house in California based on the following features:\n",
        "1. longitude: A measure of how far west a house is; a higher value is farther west\n",
        "2. latitude: A measure of how far north a house is; a higher value is farther north\n",
        "3. housingMedianAge: Median age of a house within a block; a lower number is a newer building\n",
        "4. totalRooms: Total number of rooms within a block\n",
        "5. totalBedrooms: Total number of bedrooms within a block\n",
        "6. population: Total number of people residing within a block\n",
        "7. households: Total number of households, a group of people residing within a home unit, for a block\n",
        "8. medianIncome: Median income for households within a block of houses (measured in tens of thousands of US Dollars)\n",
        "9. medianHouseValue: Median house value for households within a block (measured in US Dollars)\n",
        "10. oceanProximity: Location of the house w.r.t ocean/sea\n",
        "\n",
        "The dataset is obtained from Kaggle : https://www.kaggle.com/camnugent/california-housing-prices"
      ]
    },
    {
      "cell_type": "code",
      "metadata": {
        "id": "O53Omb0BTMU9"
      },
      "source": [
        "%matplotlib inline\n",
        "import pandas as pd\n",
        "import matplotlib.pyplot as plt\n",
        "import numpy as np"
      ],
      "execution_count": 2,
      "outputs": []
    },
    {
      "cell_type": "code",
      "metadata": {
        "id": "5QOSaF7Pcz4T"
      },
      "source": [
        "from sklearn.model_selection import StratifiedShuffleSplit\n",
        "from sklearn.model_selection import GridSearchCV\n",
        "from sklearn.preprocessing import OneHotEncoder\n",
        "from sklearn.compose import ColumnTransformer"
      ],
      "execution_count": 1,
      "outputs": []
    },
    {
      "cell_type": "code",
      "metadata": {
        "id": "96LZKodxczxy"
      },
      "source": [
        "import seaborn as sns\n",
        "from sklearn.linear_model import SGDRegressor,Lasso,ElasticNet,Ridge\n",
        "from sklearn.svm import SVR\n",
        "from sklearn.ensemble import RandomForestRegressor"
      ],
      "execution_count": 3,
      "outputs": []
    },
    {
      "cell_type": "code",
      "metadata": {
        "id": "POl5bMVKONoM"
      },
      "source": [
        "df=pd.read_csv(\"housing.csv\")"
      ],
      "execution_count": 4,
      "outputs": []
    },
    {
      "cell_type": "markdown",
      "metadata": {
        "id": "mvyq2YkHPy1Y"
      },
      "source": [
        "##Visualizing our data ready"
      ]
    },
    {
      "cell_type": "markdown",
      "metadata": {
        "id": "CE5cVrX5kyZd"
      },
      "source": [
        "We need to know more about our data so that we can manipulate it to give best possible results."
      ]
    },
    {
      "cell_type": "code",
      "metadata": {
        "id": "iwWLoijmj_Lc",
        "outputId": "72d9ac90-a66b-4ccb-c83d-faa15d17c438",
        "colab": {
          "base_uri": "https://localhost:8080/",
          "height": 133
        }
      },
      "source": [
        "#checking whether we received the data\n",
        "df.head(3)"
      ],
      "execution_count": 5,
      "outputs": [
        {
          "output_type": "execute_result",
          "data": {
            "text/html": [
              "<div>\n",
              "<style scoped>\n",
              "    .dataframe tbody tr th:only-of-type {\n",
              "        vertical-align: middle;\n",
              "    }\n",
              "\n",
              "    .dataframe tbody tr th {\n",
              "        vertical-align: top;\n",
              "    }\n",
              "\n",
              "    .dataframe thead th {\n",
              "        text-align: right;\n",
              "    }\n",
              "</style>\n",
              "<table border=\"1\" class=\"dataframe\">\n",
              "  <thead>\n",
              "    <tr style=\"text-align: right;\">\n",
              "      <th></th>\n",
              "      <th>longitude</th>\n",
              "      <th>latitude</th>\n",
              "      <th>housing_median_age</th>\n",
              "      <th>total_rooms</th>\n",
              "      <th>total_bedrooms</th>\n",
              "      <th>population</th>\n",
              "      <th>households</th>\n",
              "      <th>median_income</th>\n",
              "      <th>median_house_value</th>\n",
              "      <th>ocean_proximity</th>\n",
              "    </tr>\n",
              "  </thead>\n",
              "  <tbody>\n",
              "    <tr>\n",
              "      <th>0</th>\n",
              "      <td>-122.23</td>\n",
              "      <td>37.88</td>\n",
              "      <td>41.0</td>\n",
              "      <td>880.0</td>\n",
              "      <td>129.0</td>\n",
              "      <td>322.0</td>\n",
              "      <td>126.0</td>\n",
              "      <td>8.3252</td>\n",
              "      <td>452600.0</td>\n",
              "      <td>NEAR BAY</td>\n",
              "    </tr>\n",
              "    <tr>\n",
              "      <th>1</th>\n",
              "      <td>-122.22</td>\n",
              "      <td>37.86</td>\n",
              "      <td>21.0</td>\n",
              "      <td>7099.0</td>\n",
              "      <td>1106.0</td>\n",
              "      <td>2401.0</td>\n",
              "      <td>1138.0</td>\n",
              "      <td>8.3014</td>\n",
              "      <td>358500.0</td>\n",
              "      <td>NEAR BAY</td>\n",
              "    </tr>\n",
              "    <tr>\n",
              "      <th>2</th>\n",
              "      <td>-122.24</td>\n",
              "      <td>37.85</td>\n",
              "      <td>52.0</td>\n",
              "      <td>1467.0</td>\n",
              "      <td>190.0</td>\n",
              "      <td>496.0</td>\n",
              "      <td>177.0</td>\n",
              "      <td>7.2574</td>\n",
              "      <td>352100.0</td>\n",
              "      <td>NEAR BAY</td>\n",
              "    </tr>\n",
              "  </tbody>\n",
              "</table>\n",
              "</div>"
            ],
            "text/plain": [
              "   longitude  latitude  ...  median_house_value  ocean_proximity\n",
              "0    -122.23     37.88  ...            452600.0         NEAR BAY\n",
              "1    -122.22     37.86  ...            358500.0         NEAR BAY\n",
              "2    -122.24     37.85  ...            352100.0         NEAR BAY\n",
              "\n",
              "[3 rows x 10 columns]"
            ]
          },
          "metadata": {
            "tags": []
          },
          "execution_count": 5
        }
      ]
    },
    {
      "cell_type": "code",
      "metadata": {
        "id": "HUG4SL1jO7IL",
        "outputId": "ec6e6d9f-1b00-495f-d261-79e3ff076b93",
        "colab": {
          "base_uri": "https://localhost:8080/",
          "height": 293
        }
      },
      "source": [
        "df.info()"
      ],
      "execution_count": 6,
      "outputs": [
        {
          "output_type": "stream",
          "text": [
            "<class 'pandas.core.frame.DataFrame'>\n",
            "RangeIndex: 20640 entries, 0 to 20639\n",
            "Data columns (total 10 columns):\n",
            " #   Column              Non-Null Count  Dtype  \n",
            "---  ------              --------------  -----  \n",
            " 0   longitude           20640 non-null  float64\n",
            " 1   latitude            20640 non-null  float64\n",
            " 2   housing_median_age  20640 non-null  float64\n",
            " 3   total_rooms         20640 non-null  float64\n",
            " 4   total_bedrooms      20433 non-null  float64\n",
            " 5   population          20640 non-null  float64\n",
            " 6   households          20640 non-null  float64\n",
            " 7   median_income       20640 non-null  float64\n",
            " 8   median_house_value  20640 non-null  float64\n",
            " 9   ocean_proximity     20640 non-null  object \n",
            "dtypes: float64(9), object(1)\n",
            "memory usage: 1.6+ MB\n"
          ],
          "name": "stdout"
        }
      ]
    },
    {
      "cell_type": "code",
      "metadata": {
        "id": "edkot26fQacb",
        "outputId": "983daf40-029e-499f-efae-3f4b1ad21b5f",
        "colab": {
          "base_uri": "https://localhost:8080/",
          "height": 277
        }
      },
      "source": [
        "df.describe()"
      ],
      "execution_count": 7,
      "outputs": [
        {
          "output_type": "execute_result",
          "data": {
            "text/html": [
              "<div>\n",
              "<style scoped>\n",
              "    .dataframe tbody tr th:only-of-type {\n",
              "        vertical-align: middle;\n",
              "    }\n",
              "\n",
              "    .dataframe tbody tr th {\n",
              "        vertical-align: top;\n",
              "    }\n",
              "\n",
              "    .dataframe thead th {\n",
              "        text-align: right;\n",
              "    }\n",
              "</style>\n",
              "<table border=\"1\" class=\"dataframe\">\n",
              "  <thead>\n",
              "    <tr style=\"text-align: right;\">\n",
              "      <th></th>\n",
              "      <th>longitude</th>\n",
              "      <th>latitude</th>\n",
              "      <th>housing_median_age</th>\n",
              "      <th>total_rooms</th>\n",
              "      <th>total_bedrooms</th>\n",
              "      <th>population</th>\n",
              "      <th>households</th>\n",
              "      <th>median_income</th>\n",
              "      <th>median_house_value</th>\n",
              "    </tr>\n",
              "  </thead>\n",
              "  <tbody>\n",
              "    <tr>\n",
              "      <th>count</th>\n",
              "      <td>20640.000000</td>\n",
              "      <td>20640.000000</td>\n",
              "      <td>20640.000000</td>\n",
              "      <td>20640.000000</td>\n",
              "      <td>20433.000000</td>\n",
              "      <td>20640.000000</td>\n",
              "      <td>20640.000000</td>\n",
              "      <td>20640.000000</td>\n",
              "      <td>20640.000000</td>\n",
              "    </tr>\n",
              "    <tr>\n",
              "      <th>mean</th>\n",
              "      <td>-119.569704</td>\n",
              "      <td>35.631861</td>\n",
              "      <td>28.639486</td>\n",
              "      <td>2635.763081</td>\n",
              "      <td>537.870553</td>\n",
              "      <td>1425.476744</td>\n",
              "      <td>499.539680</td>\n",
              "      <td>3.870671</td>\n",
              "      <td>206855.816909</td>\n",
              "    </tr>\n",
              "    <tr>\n",
              "      <th>std</th>\n",
              "      <td>2.003532</td>\n",
              "      <td>2.135952</td>\n",
              "      <td>12.585558</td>\n",
              "      <td>2181.615252</td>\n",
              "      <td>421.385070</td>\n",
              "      <td>1132.462122</td>\n",
              "      <td>382.329753</td>\n",
              "      <td>1.899822</td>\n",
              "      <td>115395.615874</td>\n",
              "    </tr>\n",
              "    <tr>\n",
              "      <th>min</th>\n",
              "      <td>-124.350000</td>\n",
              "      <td>32.540000</td>\n",
              "      <td>1.000000</td>\n",
              "      <td>2.000000</td>\n",
              "      <td>1.000000</td>\n",
              "      <td>3.000000</td>\n",
              "      <td>1.000000</td>\n",
              "      <td>0.499900</td>\n",
              "      <td>14999.000000</td>\n",
              "    </tr>\n",
              "    <tr>\n",
              "      <th>25%</th>\n",
              "      <td>-121.800000</td>\n",
              "      <td>33.930000</td>\n",
              "      <td>18.000000</td>\n",
              "      <td>1447.750000</td>\n",
              "      <td>296.000000</td>\n",
              "      <td>787.000000</td>\n",
              "      <td>280.000000</td>\n",
              "      <td>2.563400</td>\n",
              "      <td>119600.000000</td>\n",
              "    </tr>\n",
              "    <tr>\n",
              "      <th>50%</th>\n",
              "      <td>-118.490000</td>\n",
              "      <td>34.260000</td>\n",
              "      <td>29.000000</td>\n",
              "      <td>2127.000000</td>\n",
              "      <td>435.000000</td>\n",
              "      <td>1166.000000</td>\n",
              "      <td>409.000000</td>\n",
              "      <td>3.534800</td>\n",
              "      <td>179700.000000</td>\n",
              "    </tr>\n",
              "    <tr>\n",
              "      <th>75%</th>\n",
              "      <td>-118.010000</td>\n",
              "      <td>37.710000</td>\n",
              "      <td>37.000000</td>\n",
              "      <td>3148.000000</td>\n",
              "      <td>647.000000</td>\n",
              "      <td>1725.000000</td>\n",
              "      <td>605.000000</td>\n",
              "      <td>4.743250</td>\n",
              "      <td>264725.000000</td>\n",
              "    </tr>\n",
              "    <tr>\n",
              "      <th>max</th>\n",
              "      <td>-114.310000</td>\n",
              "      <td>41.950000</td>\n",
              "      <td>52.000000</td>\n",
              "      <td>39320.000000</td>\n",
              "      <td>6445.000000</td>\n",
              "      <td>35682.000000</td>\n",
              "      <td>6082.000000</td>\n",
              "      <td>15.000100</td>\n",
              "      <td>500001.000000</td>\n",
              "    </tr>\n",
              "  </tbody>\n",
              "</table>\n",
              "</div>"
            ],
            "text/plain": [
              "          longitude      latitude  ...  median_income  median_house_value\n",
              "count  20640.000000  20640.000000  ...   20640.000000        20640.000000\n",
              "mean    -119.569704     35.631861  ...       3.870671       206855.816909\n",
              "std        2.003532      2.135952  ...       1.899822       115395.615874\n",
              "min     -124.350000     32.540000  ...       0.499900        14999.000000\n",
              "25%     -121.800000     33.930000  ...       2.563400       119600.000000\n",
              "50%     -118.490000     34.260000  ...       3.534800       179700.000000\n",
              "75%     -118.010000     37.710000  ...       4.743250       264725.000000\n",
              "max     -114.310000     41.950000  ...      15.000100       500001.000000\n",
              "\n",
              "[8 rows x 9 columns]"
            ]
          },
          "metadata": {
            "tags": []
          },
          "execution_count": 7
        }
      ]
    },
    {
      "cell_type": "code",
      "metadata": {
        "id": "LlmdpNu_Tti5",
        "outputId": "c1415d53-a69f-4eec-8b41-2998bd0c472e",
        "colab": {
          "base_uri": "https://localhost:8080/",
          "height": 115
        }
      },
      "source": [
        "df[\"ocean_proximity\"].value_counts()"
      ],
      "execution_count": 8,
      "outputs": [
        {
          "output_type": "execute_result",
          "data": {
            "text/plain": [
              "<1H OCEAN     9136\n",
              "INLAND        6551\n",
              "NEAR OCEAN    2658\n",
              "NEAR BAY      2290\n",
              "ISLAND           5\n",
              "Name: ocean_proximity, dtype: int64"
            ]
          },
          "metadata": {
            "tags": []
          },
          "execution_count": 8
        }
      ]
    },
    {
      "cell_type": "code",
      "metadata": {
        "id": "eY1S-MGET9SZ",
        "outputId": "57c2e9aa-9f8b-42f0-8f6c-db7ddc53f8d2",
        "colab": {
          "base_uri": "https://localhost:8080/",
          "height": 607
        }
      },
      "source": [
        "#histograms are the best way to visualize data\n",
        "df.hist(bins=50,figsize=(15,10));"
      ],
      "execution_count": 9,
      "outputs": [
        {
          "output_type": "display_data",
          "data": {
            "image/png": "[encoded data removed]",
            "text/plain": [
              "<Figure size 1080x720 with 9 Axes>"
            ]
          },
          "metadata": {
            "tags": [],
            "needs_background": "light"
          }
        }
      ]
    },
    {
      "cell_type": "markdown",
      "metadata": {
        "id": "0CTTit7mknD-"
      },
      "source": [
        "Let's take a look where all these houses lie."
      ]
    },
    {
      "cell_type": "code",
      "metadata": {
        "id": "Uq0VrIBTguw6",
        "outputId": "622f933b-9414-4ebe-ae80-01d2a281e377",
        "colab": {
          "base_uri": "https://localhost:8080/",
          "height": 365
        }
      },
      "source": [
        "df.plot(kind=\"scatter\", x=\"longitude\", y=\"latitude\", alpha=0.4,\n",
        "             s=df[\"population\"]/100, label=\"population\",\n",
        "             c=\"median_house_value\", cmap=plt.get_cmap(\"jet\"), colorbar=True, \n",
        "              figsize=(7,6))\n",
        "plt.legend();"
      ],
      "execution_count": 10,
      "outputs": [
        {
          "output_type": "display_data",
          "data": {
            "image/png": "[encoded data removed]",
            "text/plain": [
              "<Figure size 504x432 with 2 Axes>"
            ]
          },
          "metadata": {
            "tags": [],
            "needs_background": "light"
          }
        }
      ]
    },
    {
      "cell_type": "code",
      "metadata": {
        "id": "TVCp5wCET9QV",
        "outputId": "b0887300-4feb-47ce-d943-e615b553f036",
        "colab": {
          "base_uri": "https://localhost:8080/",
          "height": 281
        }
      },
      "source": [
        "df[\"median_income\"].hist()"
      ],
      "execution_count": null,
      "outputs": [
        {
          "output_type": "execute_result",
          "data": {
            "text/plain": [
              "<matplotlib.axes._subplots.AxesSubplot at 0x7f7b46d0b7b8>"
            ]
          },
          "metadata": {
            "tags": []
          },
          "execution_count": 12
        },
        {
          "output_type": "display_data",
          "data": {
            "image/png": "[encoded data removed]",
            "text/plain": [
              "<Figure size 432x288 with 1 Axes>"
            ]
          },
          "metadata": {
            "tags": [],
            "needs_background": "light"
          }
        }
      ]
    },
    {
      "cell_type": "markdown",
      "metadata": {
        "id": "bFnwlKJklKQc"
      },
      "source": [
        "From the histogram we can infer that most of income of people lies between the values 2 and 5."
      ]
    },
    {
      "cell_type": "markdown",
      "metadata": {
        "id": "2aUPuES4dbOv"
      },
      "source": [
        "##Splitting data and filling missing values"
      ]
    },
    {
      "cell_type": "markdown",
      "metadata": {
        "id": "jVFlXpiYln27"
      },
      "source": [
        "Let's split the data into training and test set based on the income of people so as not to loose the ratio."
      ]
    },
    {
      "cell_type": "code",
      "metadata": {
        "id": "Hpd9ZU1bT9N9"
      },
      "source": [
        "df[\"income\"]=np.ceil(df[\"median_income\"]/1.5)\n",
        "df[\"income\"].where(df[\"income\"]<5.0,5.0,inplace=True)"
      ],
      "execution_count": 11,
      "outputs": []
    },
    {
      "cell_type": "code",
      "metadata": {
        "id": "farRZVIuT9LN"
      },
      "source": [
        "#Spitting the dataset into training and test\n",
        "split = StratifiedShuffleSplit(n_splits=1, test_size=0.2, random_state=42)\n",
        "for train_index, test_index in split.split(df, df[\"income\"]):\n",
        "      df_train = df.loc[train_index]\n",
        "      df_test = df.loc[test_index] "
      ],
      "execution_count": 12,
      "outputs": []
    },
    {
      "cell_type": "code",
      "metadata": {
        "id": "jcQWPLe7eLj9"
      },
      "source": [
        "df_train.drop(\"income\",axis=1,inplace=True)\n",
        "df_test.drop(\"income\",axis=1,inplace=True)"
      ],
      "execution_count": 13,
      "outputs": []
    },
    {
      "cell_type": "code",
      "metadata": {
        "id": "Ruhkuth5pD3Q",
        "outputId": "3102d43b-dc80-4ece-95a9-4f62434a2610",
        "colab": {
          "base_uri": "https://localhost:8080/",
          "height": 196
        }
      },
      "source": [
        "df_train.isna().sum()"
      ],
      "execution_count": 14,
      "outputs": [
        {
          "output_type": "execute_result",
          "data": {
            "text/plain": [
              "longitude               0\n",
              "latitude                0\n",
              "housing_median_age      0\n",
              "total_rooms             0\n",
              "total_bedrooms        158\n",
              "population              0\n",
              "households              0\n",
              "median_income           0\n",
              "median_house_value      0\n",
              "ocean_proximity         0\n",
              "dtype: int64"
            ]
          },
          "metadata": {
            "tags": []
          },
          "execution_count": 14
        }
      ]
    },
    {
      "cell_type": "code",
      "metadata": {
        "id": "fbybQaHvpJxC",
        "outputId": "58afc55a-6484-495c-998c-d9784a1d480e",
        "colab": {
          "base_uri": "https://localhost:8080/",
          "height": 196
        }
      },
      "source": [
        "df_test.isna().sum()"
      ],
      "execution_count": 15,
      "outputs": [
        {
          "output_type": "execute_result",
          "data": {
            "text/plain": [
              "longitude              0\n",
              "latitude               0\n",
              "housing_median_age     0\n",
              "total_rooms            0\n",
              "total_bedrooms        49\n",
              "population             0\n",
              "households             0\n",
              "median_income          0\n",
              "median_house_value     0\n",
              "ocean_proximity        0\n",
              "dtype: int64"
            ]
          },
          "metadata": {
            "tags": []
          },
          "execution_count": 15
        }
      ]
    },
    {
      "cell_type": "code",
      "metadata": {
        "id": "kj-X4WU7kQpV"
      },
      "source": [
        "df_train.fillna(df_train[\"total_bedrooms\"].median(),inplace=True)\n",
        "df_test.fillna(df_test[\"total_bedrooms\"].median(),inplace=True)"
      ],
      "execution_count": 16,
      "outputs": []
    },
    {
      "cell_type": "markdown",
      "metadata": {
        "id": "Yoso7nUPrOX3"
      },
      "source": [
        "Let's play around with data to get more features for that we are creating a copy of the training data."
      ]
    },
    {
      "cell_type": "code",
      "metadata": {
        "id": "qatsXRavMjmd"
      },
      "source": [
        "data=df_train.copy()"
      ],
      "execution_count": 17,
      "outputs": []
    },
    {
      "cell_type": "markdown",
      "metadata": {
        "id": "uoYQGo5DtZQI"
      },
      "source": [
        "##Feature Extraction"
      ]
    },
    {
      "cell_type": "markdown",
      "metadata": {
        "id": "1ReVpsaVh4I0"
      },
      "source": [
        "Removing unneeded columns and adding new columns to our data."
      ]
    },
    {
      "cell_type": "code",
      "metadata": {
        "id": "V1QrZN5FthAf",
        "outputId": "a48a6d49-62d8-4897-fe59-188dbf6ba702",
        "colab": {
          "base_uri": "https://localhost:8080/",
          "height": 105
        }
      },
      "source": [
        "data.head(2)"
      ],
      "execution_count": null,
      "outputs": [
        {
          "output_type": "execute_result",
          "data": {
            "text/html": [
              "<div>\n",
              "<style scoped>\n",
              "    .dataframe tbody tr th:only-of-type {\n",
              "        vertical-align: middle;\n",
              "    }\n",
              "\n",
              "    .dataframe tbody tr th {\n",
              "        vertical-align: top;\n",
              "    }\n",
              "\n",
              "    .dataframe thead th {\n",
              "        text-align: right;\n",
              "    }\n",
              "</style>\n",
              "<table border=\"1\" class=\"dataframe\">\n",
              "  <thead>\n",
              "    <tr style=\"text-align: right;\">\n",
              "      <th></th>\n",
              "      <th>longitude</th>\n",
              "      <th>latitude</th>\n",
              "      <th>housing_median_age</th>\n",
              "      <th>total_rooms</th>\n",
              "      <th>total_bedrooms</th>\n",
              "      <th>population</th>\n",
              "      <th>households</th>\n",
              "      <th>median_income</th>\n",
              "      <th>median_house_value</th>\n",
              "      <th>ocean_proximity</th>\n",
              "    </tr>\n",
              "  </thead>\n",
              "  <tbody>\n",
              "    <tr>\n",
              "      <th>17606</th>\n",
              "      <td>-121.89</td>\n",
              "      <td>37.29</td>\n",
              "      <td>38.0</td>\n",
              "      <td>1568.0</td>\n",
              "      <td>351.0</td>\n",
              "      <td>710.0</td>\n",
              "      <td>339.0</td>\n",
              "      <td>2.7042</td>\n",
              "      <td>286600.0</td>\n",
              "      <td>&lt;1H OCEAN</td>\n",
              "    </tr>\n",
              "    <tr>\n",
              "      <th>18632</th>\n",
              "      <td>-121.93</td>\n",
              "      <td>37.05</td>\n",
              "      <td>14.0</td>\n",
              "      <td>679.0</td>\n",
              "      <td>108.0</td>\n",
              "      <td>306.0</td>\n",
              "      <td>113.0</td>\n",
              "      <td>6.4214</td>\n",
              "      <td>340600.0</td>\n",
              "      <td>&lt;1H OCEAN</td>\n",
              "    </tr>\n",
              "  </tbody>\n",
              "</table>\n",
              "</div>"
            ],
            "text/plain": [
              "       longitude  latitude  ...  median_house_value  ocean_proximity\n",
              "17606    -121.89     37.29  ...            286600.0        <1H OCEAN\n",
              "18632    -121.93     37.05  ...            340600.0        <1H OCEAN\n",
              "\n",
              "[2 rows x 10 columns]"
            ]
          },
          "metadata": {
            "tags": []
          },
          "execution_count": 16
        }
      ]
    },
    {
      "cell_type": "code",
      "metadata": {
        "id": "kLFjHmAGsvWq"
      },
      "source": [
        "corr_mat=data.corr()"
      ],
      "execution_count": 18,
      "outputs": []
    },
    {
      "cell_type": "code",
      "metadata": {
        "id": "orJvhB3ym6t_",
        "outputId": "3c8c0803-b061-48fc-da2a-a93313fcb465",
        "colab": {
          "base_uri": "https://localhost:8080/",
          "height": 180
        }
      },
      "source": [
        "corr_mat[\"median_income\"].sort_values(ascending=False)"
      ],
      "execution_count": 19,
      "outputs": [
        {
          "output_type": "execute_result",
          "data": {
            "text/plain": [
              "median_income         1.000000\n",
              "median_house_value    0.687160\n",
              "total_rooms           0.200087\n",
              "households            0.010781\n",
              "population            0.002380\n",
              "total_bedrooms       -0.009512\n",
              "longitude            -0.019583\n",
              "latitude             -0.075205\n",
              "housing_median_age   -0.111360\n",
              "Name: median_income, dtype: float64"
            ]
          },
          "metadata": {
            "tags": []
          },
          "execution_count": 19
        }
      ]
    },
    {
      "cell_type": "code",
      "metadata": {
        "id": "t_YSnyU9m7G9"
      },
      "source": [
        "data[\"pop_per_household\"]=data[\"population\"]/data[\"households\"]\n",
        "data[\"rooms_per_household\"]=data[\"total_rooms\"]/data[\"total_bedrooms\"]\n",
        "data[\"bed_per_room\"]=data[\"total_bedrooms\"]/data[\"total_rooms\"]"
      ],
      "execution_count": 20,
      "outputs": []
    },
    {
      "cell_type": "code",
      "metadata": {
        "id": "Upd55bacqdN6",
        "outputId": "dadeece4-2c55-48ff-f285-5e350f04b6da",
        "colab": {
          "base_uri": "https://localhost:8080/",
          "height": 228
        }
      },
      "source": [
        "corr_mat=data.corr()\n",
        "corr_mat[\"median_income\"].sort_values(ascending=False)"
      ],
      "execution_count": 21,
      "outputs": [
        {
          "output_type": "execute_result",
          "data": {
            "text/plain": [
              "median_income          1.000000\n",
              "rooms_per_household    0.728907\n",
              "median_house_value     0.687160\n",
              "total_rooms            0.200087\n",
              "pop_per_household      0.021822\n",
              "households             0.010781\n",
              "population             0.002380\n",
              "total_bedrooms        -0.009512\n",
              "longitude             -0.019583\n",
              "latitude              -0.075205\n",
              "housing_median_age    -0.111360\n",
              "bed_per_room          -0.544525\n",
              "Name: median_income, dtype: float64"
            ]
          },
          "metadata": {
            "tags": []
          },
          "execution_count": 21
        }
      ]
    },
    {
      "cell_type": "code",
      "metadata": {
        "id": "ds1nE8njqdIo"
      },
      "source": [
        "df_test[\"pop_per_household\"]=df_test[\"population\"]/df_test[\"households\"]\n",
        "df_test[\"rooms_per_household\"]=df_test[\"total_rooms\"]/df_test[\"total_bedrooms\"]\n",
        "df_test[\"bed_per_room\"]=df_test[\"total_bedrooms\"]/df_test[\"total_rooms\"]"
      ],
      "execution_count": 22,
      "outputs": []
    },
    {
      "cell_type": "code",
      "metadata": {
        "id": "TWBPbZ85hhIK"
      },
      "source": [
        "data.drop(\"population\",axis=1,inplace=True)\n",
        "df_test.drop(\"population\",axis=1,inplace=True)\n",
        "\n",
        "data.drop(\"total_bedrooms\",axis=1,inplace=True)\n",
        "df_test.drop(\"total_bedrooms\",axis=1,inplace=True)\n",
        "\n",
        "data.drop(\"households\",axis=1,inplace=True)\n",
        "df_test.drop(\"households\",axis=1,inplace=True)"
      ],
      "execution_count": 23,
      "outputs": []
    },
    {
      "cell_type": "markdown",
      "metadata": {
        "id": "Qmy6kRAIsiRN"
      },
      "source": [
        "##Getting our data ready"
      ]
    },
    {
      "cell_type": "code",
      "metadata": {
        "id": "LQDYeJbYhQAp"
      },
      "source": [
        "x_train=data.drop(\"median_house_value\",axis=1)\n",
        "y_train=data[\"median_house_value\"]"
      ],
      "execution_count": 24,
      "outputs": []
    },
    {
      "cell_type": "code",
      "metadata": {
        "id": "rAo1l2K1Zri7"
      },
      "source": [
        "x_test=df_test.drop(\"median_house_value\",axis=1)\n",
        "y_test=df_test[\"median_house_value\"]"
      ],
      "execution_count": 25,
      "outputs": []
    },
    {
      "cell_type": "code",
      "metadata": {
        "id": "xirzz5cEuOko"
      },
      "source": [
        "cat={\"<1H OCEAN\":3,\"INLAND\":5,\"ISLAND\":0,\"NEAR BAY\":8,\"NEAR OCEAN\":2}\n",
        "x_train[\"ocean_proximity\"]=x_train[\"ocean_proximity\"].map(cat)\n",
        "x_test[\"ocean_proximity\"]=x_test[\"ocean_proximity\"].map(cat)"
      ],
      "execution_count": 27,
      "outputs": []
    },
    {
      "cell_type": "markdown",
      "metadata": {
        "id": "GKJVeuBps5cK"
      },
      "source": [
        "##Selecting model"
      ]
    },
    {
      "cell_type": "markdown",
      "metadata": {
        "id": "6Ne-7YO9j26A"
      },
      "source": [
        "Choosing appropriate model that suits our data."
      ]
    },
    {
      "cell_type": "code",
      "metadata": {
        "id": "w9Lm1rwHoUtJ"
      },
      "source": [
        "model={\"sgd\": SGDRegressor(),\n",
        "       \"las\": Lasso(),\n",
        "       \"elas\":ElasticNet(),\n",
        "       \"rid\":Ridge(),\n",
        "       \"svr\":SVR(),\n",
        "       \"rand\":RandomForestRegressor()\n",
        "       }\n",
        "\n",
        "\n",
        "def fitscore(model,x_train,y_train,x_test,y_test):\n",
        "  np.random.seed(42)\n",
        "  for name,models in model.items():\n",
        "    models.fit(x_train,y_train)\n",
        "    print(f\"{name} {models.score(x_test,y_test)}\")"
      ],
      "execution_count": null,
      "outputs": []
    },
    {
      "cell_type": "code",
      "metadata": {
        "id": "Y05Ru_hqoUqa",
        "outputId": "288803e5-41da-4487-d32d-89c8d819dbde",
        "colab": {
          "base_uri": "https://localhost:8080/",
          "height": 115
        }
      },
      "source": [
        "fitscore(model,x_train,y_train,x_test,y_test)"
      ],
      "execution_count": null,
      "outputs": [
        {
          "output_type": "stream",
          "text": [
            "sgd -3.2958352107191534e+21\n",
            "las 0.613109230821623\n",
            "elas 0.5695014560588767\n",
            "rid 0.6130461338858922\n",
            "svr -0.05407812604564954\n",
            "rand 0.8213922271084937\n"
          ],
          "name": "stdout"
        }
      ]
    },
    {
      "cell_type": "markdown",
      "metadata": {
        "id": "WAqdH2tMtFXy"
      },
      "source": [
        "##Hyperparameter Tuning"
      ]
    },
    {
      "cell_type": "markdown",
      "metadata": {
        "id": "N_cUmVwgkB-l"
      },
      "source": [
        "We are choosing random forest regressor for our problem and now hypertuning its parameters to get better results."
      ]
    },
    {
      "cell_type": "code",
      "metadata": {
        "id": "0e2euszMoUm1",
        "outputId": "c68928be-7052-4360-f86e-6172fcd3d017",
        "colab": {
          "base_uri": "https://localhost:8080/",
          "height": 310
        }
      },
      "source": [
        "rand=RandomForestRegressor()\n",
        "rand.get_params()"
      ],
      "execution_count": null,
      "outputs": [
        {
          "output_type": "execute_result",
          "data": {
            "text/plain": [
              "{'bootstrap': True,\n",
              " 'ccp_alpha': 0.0,\n",
              " 'criterion': 'mse',\n",
              " 'max_depth': None,\n",
              " 'max_features': 'auto',\n",
              " 'max_leaf_nodes': None,\n",
              " 'max_samples': None,\n",
              " 'min_impurity_decrease': 0.0,\n",
              " 'min_impurity_split': None,\n",
              " 'min_samples_leaf': 1,\n",
              " 'min_samples_split': 2,\n",
              " 'min_weight_fraction_leaf': 0.0,\n",
              " 'n_estimators': 100,\n",
              " 'n_jobs': None,\n",
              " 'oob_score': False,\n",
              " 'random_state': None,\n",
              " 'verbose': 0,\n",
              " 'warm_start': False}"
            ]
          },
          "metadata": {
            "tags": []
          },
          "execution_count": 45
        }
      ]
    },
    {
      "cell_type": "code",
      "metadata": {
        "id": "U9D-9PaUoUkA"
      },
      "source": [
        "rand_reg={\"n_estimators\":[5,50,100],\n",
        "          \"max_depth\":[None,3,6,9,10],\n",
        "          \"min_samples_split\":np.arange(2,6,2),\n",
        "          \"min_samples_leaf\":[1,3,6,8],\n",
        "          }"
      ],
      "execution_count": null,
      "outputs": []
    },
    {
      "cell_type": "code",
      "metadata": {
        "id": "BAZgZD1UoUga"
      },
      "source": [
        "np.random.seed(42)\n",
        "rand = GridSearchCV(estimator=RandomForestRegressor(),\n",
        "                    param_grid=rand_reg,\n",
        "                    cv=5,          \n",
        "                    verbose=2)"
      ],
      "execution_count": null,
      "outputs": []
    },
    {
      "cell_type": "code",
      "metadata": {
        "id": "JhO-bsC1oUdC",
        "outputId": "23f95fac-bcac-4c0d-b8ba-b85d94483d33",
        "colab": {
          "base_uri": "https://localhost:8080/",
          "height": 358
        }
      },
      "source": [
        "#warning do not run this cell it takes 37 minutes\n",
        "rand.fit(x_train,y_train)"
      ],
      "execution_count": null,
      "outputs": [
        {
          "output_type": "execute_result",
          "data": {
            "text/plain": [
              "GridSearchCV(cv=5, error_score=nan,\n",
              "             estimator=RandomForestRegressor(bootstrap=True, ccp_alpha=0.0,\n",
              "                                             criterion='mse', max_depth=None,\n",
              "                                             max_features='auto',\n",
              "                                             max_leaf_nodes=None,\n",
              "                                             max_samples=None,\n",
              "                                             min_impurity_decrease=0.0,\n",
              "                                             min_impurity_split=None,\n",
              "                                             min_samples_leaf=1,\n",
              "                                             min_samples_split=2,\n",
              "                                             min_weight_fraction_leaf=0.0,\n",
              "                                             n_estimators=100, n_jobs=None,\n",
              "                                             oob_score=False, random_state=None,\n",
              "                                             verbose=0, warm_start=False),\n",
              "             iid='deprecated', n_jobs=None,\n",
              "             param_grid={'max_depth': [None, 3, 6, 9, 10],\n",
              "                         'min_samples_leaf': [1, 3, 6, 8],\n",
              "                         'min_samples_split': array([2, 4]),\n",
              "                         'n_estimators': [5, 50, 100]},\n",
              "             pre_dispatch='2*n_jobs', refit=True, return_train_score=False,\n",
              "             scoring=None, verbose=2)"
            ]
          },
          "metadata": {
            "tags": []
          },
          "execution_count": 45
        }
      ]
    },
    {
      "cell_type": "code",
      "metadata": {
        "id": "5w6BZSBciiUG",
        "outputId": "09490924-ae52-4861-9f31-6170fc571e83",
        "colab": {
          "base_uri": "https://localhost:8080/",
          "height": 82
        }
      },
      "source": [
        "rand.best_params_"
      ],
      "execution_count": null,
      "outputs": [
        {
          "output_type": "execute_result",
          "data": {
            "text/plain": [
              "{'max_depth': None,\n",
              " 'min_samples_leaf': 3,\n",
              " 'min_samples_split': 2,\n",
              " 'n_estimators': 100}"
            ]
          },
          "metadata": {
            "tags": []
          },
          "execution_count": 46
        }
      ]
    },
    {
      "cell_type": "code",
      "metadata": {
        "id": "74hJ2WHg0yK9",
        "outputId": "a9c40f94-b4fc-4942-fcb8-5fd42e161fb9",
        "colab": {
          "base_uri": "https://localhost:8080/",
          "height": 33
        }
      },
      "source": [
        "rand.best_score_"
      ],
      "execution_count": null,
      "outputs": [
        {
          "output_type": "execute_result",
          "data": {
            "text/plain": [
              "0.809988834297901"
            ]
          },
          "metadata": {
            "tags": []
          },
          "execution_count": 47
        }
      ]
    },
    {
      "cell_type": "code",
      "metadata": {
        "id": "VLlzLcbdiiwg"
      },
      "source": [
        "rand_reg={\"n_estimators\":[100,150,200],\n",
        "          \"max_depth\":[None,3,6,9,10],\n",
        "          \"min_samples_split\":np.arange(2,6,2),\n",
        "          \"min_samples_leaf\":[1,3,6,8]\n",
        "          }"
      ],
      "execution_count": null,
      "outputs": []
    },
    {
      "cell_type": "code",
      "metadata": {
        "id": "WE2YMWuUlmJa"
      },
      "source": [
        "np.random.seed(42)\n",
        "rand = GridSearchCV(estimator=RandomForestRegressor(),\n",
        "                    param_grid=rand_reg,\n",
        "                    cv=5,          \n",
        "                    verbose=2)"
      ],
      "execution_count": null,
      "outputs": []
    },
    {
      "cell_type": "code",
      "metadata": {
        "id": "OKNu6WW8lri9",
        "outputId": "00f6e472-cbe9-4dae-db72-6ec8ed686876",
        "colab": {
          "base_uri": "https://localhost:8080/",
          "height": 358
        }
      },
      "source": [
        "#warning this cell takes 76 minutes\n",
        "rand.fit(x_train,y_train)"
      ],
      "execution_count": null,
      "outputs": [
        {
          "output_type": "execute_result",
          "data": {
            "text/plain": [
              "GridSearchCV(cv=5, error_score=nan,\n",
              "             estimator=RandomForestRegressor(bootstrap=True, ccp_alpha=0.0,\n",
              "                                             criterion='mse', max_depth=None,\n",
              "                                             max_features='auto',\n",
              "                                             max_leaf_nodes=None,\n",
              "                                             max_samples=None,\n",
              "                                             min_impurity_decrease=0.0,\n",
              "                                             min_impurity_split=None,\n",
              "                                             min_samples_leaf=1,\n",
              "                                             min_samples_split=2,\n",
              "                                             min_weight_fraction_leaf=0.0,\n",
              "                                             n_estimators=100, n_jobs=None,\n",
              "                                             oob_score=False, random_state=None,\n",
              "                                             verbose=0, warm_start=False),\n",
              "             iid='deprecated', n_jobs=None,\n",
              "             param_grid={'max_depth': [None, 3, 6, 9, 10],\n",
              "                         'min_samples_leaf': [1, 3, 6, 8],\n",
              "                         'min_samples_split': array([2, 4]),\n",
              "                         'n_estimators': [100, 150, 200]},\n",
              "             pre_dispatch='2*n_jobs', refit=True, return_train_score=False,\n",
              "             scoring=None, verbose=2)"
            ]
          },
          "metadata": {
            "tags": []
          },
          "execution_count": 10
        }
      ]
    },
    {
      "cell_type": "code",
      "metadata": {
        "id": "KmPLIRvsl4wB",
        "outputId": "a82964a9-d400-46a9-9c47-fe086d485950",
        "colab": {
          "base_uri": "https://localhost:8080/",
          "height": 82
        }
      },
      "source": [
        "rand.best_params_"
      ],
      "execution_count": null,
      "outputs": [
        {
          "output_type": "execute_result",
          "data": {
            "text/plain": [
              "{'max_depth': None,\n",
              " 'min_samples_leaf': 3,\n",
              " 'min_samples_split': 4,\n",
              " 'n_estimators': 200}"
            ]
          },
          "metadata": {
            "tags": []
          },
          "execution_count": 11
        }
      ]
    },
    {
      "cell_type": "code",
      "metadata": {
        "id": "M0wHh3AkSiS3",
        "outputId": "45b0074b-560a-49bc-e7fa-57f8fbf8a5db",
        "colab": {
          "base_uri": "https://localhost:8080/",
          "height": 33
        }
      },
      "source": [
        "rand.best_score_"
      ],
      "execution_count": null,
      "outputs": [
        {
          "output_type": "execute_result",
          "data": {
            "text/plain": [
              "0.810784423862468"
            ]
          },
          "metadata": {
            "tags": []
          },
          "execution_count": 53
        }
      ]
    },
    {
      "cell_type": "code",
      "metadata": {
        "id": "RNOo3-TZeTeD"
      },
      "source": [
        "rand_reg={\"n_estimators\":np.arange(190,210,2),\n",
        "          \"max_depth\":[None],\n",
        "          \"min_samples_split\":np.arange(2,6,2),\n",
        "          \"min_samples_leaf\":[1,3,6,8]\n",
        "          }"
      ],
      "execution_count": null,
      "outputs": []
    },
    {
      "cell_type": "code",
      "metadata": {
        "id": "NTimH8NaeTq-"
      },
      "source": [
        "np.random.seed(42)\n",
        "rand = GridSearchCV(estimator=RandomForestRegressor(),\n",
        "                    param_grid=rand_reg,\n",
        "                    cv=5,          \n",
        "                    verbose=2)"
      ],
      "execution_count": null,
      "outputs": []
    },
    {
      "cell_type": "code",
      "metadata": {
        "id": "W0_2ex5seS99",
        "outputId": "b83db6ab-3b75-4135-8e68-59035ff4b35c",
        "colab": {
          "base_uri": "https://localhost:8080/",
          "height": 440
        }
      },
      "source": [
        "#warning this cell takes 104 minutes\n",
        "rand.fit(x_train,y_train)"
      ],
      "execution_count": null,
      "outputs": [
        {
          "output_type": "stream",
          "text": [
            "[CV]  max_depth=None, min_samples_leaf=8, min_samples_split=4, n_estimators=208, total=  14.3s\n",
            "[CV] max_depth=None, min_samples_leaf=8, min_samples_split=4, n_estimators=208 \n",
            "[CV]  max_depth=None, min_samples_leaf=8, min_samples_split=4, n_estimators=208, total=  14.3s\n",
            "[CV] max_depth=None, min_samples_leaf=8, min_samples_split=4, n_estimators=208 \n",
            "[CV]  max_depth=None, min_samples_leaf=8, min_samples_split=4, n_estimators=208, total=  14.5s\n"
          ],
          "name": "stdout"
        },
        {
          "output_type": "stream",
          "text": [
            "[Parallel(n_jobs=1)]: Done 400 out of 400 | elapsed: 104.8min finished\n"
          ],
          "name": "stderr"
        },
        {
          "output_type": "execute_result",
          "data": {
            "text/plain": [
              "GridSearchCV(cv=5, error_score=nan,\n",
              "             estimator=RandomForestRegressor(bootstrap=True, ccp_alpha=0.0,\n",
              "                                             criterion='mse', max_depth=None,\n",
              "                                             max_features='auto',\n",
              "                                             max_leaf_nodes=None,\n",
              "                                             max_samples=None,\n",
              "                                             min_impurity_decrease=0.0,\n",
              "                                             min_impurity_split=None,\n",
              "                                             min_samples_leaf=1,\n",
              "                                             min_samples_split=2,\n",
              "                                             min_weight_fraction_leaf=0.0,\n",
              "                                             n_estimators=100, n_jobs=None,\n",
              "                                             oob_score=False, random_state=None,\n",
              "                                             verbose=0, warm_start=False),\n",
              "             iid='deprecated', n_jobs=None,\n",
              "             param_grid={'max_depth': [None], 'min_samples_leaf': [1, 3, 6, 8],\n",
              "                         'min_samples_split': array([2, 4]),\n",
              "                         'n_estimators': array([190, 192, 194, 196, 198, 200, 202, 204, 206, 208])},\n",
              "             pre_dispatch='2*n_jobs', refit=True, return_train_score=False,\n",
              "             scoring=None, verbose=2)"
            ]
          },
          "metadata": {
            "tags": []
          },
          "execution_count": 10
        }
      ]
    },
    {
      "cell_type": "code",
      "metadata": {
        "id": "Rq4k6i_PPjI7",
        "outputId": "0657273e-01b9-4c9c-bef0-79f473e91333",
        "colab": {
          "base_uri": "https://localhost:8080/",
          "height": 33
        }
      },
      "source": [
        "rand.best_score_"
      ],
      "execution_count": null,
      "outputs": [
        {
          "output_type": "execute_result",
          "data": {
            "text/plain": [
              "0.8114606664638021"
            ]
          },
          "metadata": {
            "tags": []
          },
          "execution_count": 11
        }
      ]
    },
    {
      "cell_type": "code",
      "metadata": {
        "id": "jROarH86PqRA",
        "outputId": "7746afa1-29a6-4cad-b19e-b3a8359d27d6",
        "colab": {
          "base_uri": "https://localhost:8080/",
          "height": 82
        }
      },
      "source": [
        "rand.best_params_"
      ],
      "execution_count": null,
      "outputs": [
        {
          "output_type": "execute_result",
          "data": {
            "text/plain": [
              "{'max_depth': None,\n",
              " 'min_samples_leaf': 3,\n",
              " 'min_samples_split': 2,\n",
              " 'n_estimators': 206}"
            ]
          },
          "metadata": {
            "tags": []
          },
          "execution_count": 12
        }
      ]
    },
    {
      "cell_type": "markdown",
      "metadata": {
        "id": "0B66vyS_zzCm"
      },
      "source": [
        "#Putting it all together"
      ]
    },
    {
      "cell_type": "code",
      "metadata": {
        "id": "s-cmVhgSzx-_"
      },
      "source": [
        "def dataeng(df):\n",
        "  df[\"income\"]=np.ceil(df[\"median_income\"]/1.5)\n",
        "  df[\"income\"].where(df[\"income\"]<5.0,5.0,inplace=True)\n",
        "\n",
        "  split = StratifiedShuffleSplit(n_splits=1, test_size=0.2, random_state=42)\n",
        "  for train_index, test_index in split.split(df, df[\"income\"]):\n",
        "      df_train = df.loc[train_index]\n",
        "      df_test = df.loc[test_index] \n",
        "      \n",
        "  df_train.drop(\"income\",axis=1,inplace=True)\n",
        "  df_test.drop(\"income\",axis=1,inplace=True)\n",
        "\n",
        "  df_train.fillna(df_train[\"total_bedrooms\"].median(),inplace=True)\n",
        "  df_test.fillna(df_test[\"total_bedrooms\"].median(),inplace=True)\n",
        "\n",
        "  df_train[\"pop_per_household\"]=df_train[\"population\"]/df_train[\"households\"]\n",
        "  df_train[\"rooms_per_household\"]=df_train[\"total_rooms\"]/df_train[\"total_bedrooms\"]\n",
        "  df_train[\"bed_per_room\"]=df_train[\"total_bedrooms\"]/df_train[\"total_rooms\"]\n",
        "\n",
        "  df_test[\"pop_per_household\"]=df_test[\"population\"]/df_test[\"households\"]\n",
        "  df_test[\"rooms_per_household\"]=df_test[\"total_rooms\"]/df_test[\"total_bedrooms\"]\n",
        "  df_test[\"bed_per_room\"]=df_test[\"total_bedrooms\"]/df_test[\"total_rooms\"]\n",
        "\n",
        "  df_train.drop(\"population\",axis=1,inplace=True)\n",
        "  df_test.drop(\"population\",axis=1,inplace=True)\n",
        "  df_train.drop(\"total_bedrooms\",axis=1,inplace=True)\n",
        "  df_test.drop(\"total_bedrooms\",axis=1,inplace=True)\n",
        "  df_train.drop(\"households\",axis=1,inplace=True)\n",
        "  df_test.drop(\"households\",axis=1,inplace=True)\n",
        "\n",
        "  x=df_train.drop(\"median_house_value\",axis=1)\n",
        "  y=df_train[\"median_house_value\"]\n",
        "\n",
        "  x1=df_test.drop(\"median_house_value\",axis=1)\n",
        "  y1=df_test[\"median_house_value\"]\n",
        "\n",
        "  cat={\"<1H OCEAN\":3,\"INLAND\":5,\"ISLAND\":0,\"NEAR BAY\":8,\"NEAR OCEAN\":2}\n",
        "  x[\"ocean_proximity\"]=x[\"ocean_proximity\"].map(cat)\n",
        "  x1[\"ocean_proximity\"]=x1[\"ocean_proximity\"].map(cat)\n",
        "\n",
        "  return x,y,x1,y1"
      ],
      "execution_count": null,
      "outputs": []
    },
    {
      "cell_type": "code",
      "metadata": {
        "id": "VbNW-Tllzx7y"
      },
      "source": [
        "data=df.copy()\n",
        "x_train,y_train,x_test,y_test=dataeng(data)"
      ],
      "execution_count": null,
      "outputs": []
    },
    {
      "cell_type": "code",
      "metadata": {
        "id": "YNzWfvuczx4V"
      },
      "source": [
        "np.random.seed(42)\n",
        "rf=RandomForestRegressor(n_estimators=206,min_samples_split=2,min_samples_leaf=3)"
      ],
      "execution_count": null,
      "outputs": []
    },
    {
      "cell_type": "code",
      "metadata": {
        "id": "JITdjbOTzx0g",
        "outputId": "69833beb-bc54-4a39-80d4-46b1a604ad1f",
        "colab": {
          "base_uri": "https://localhost:8080/",
          "height": 131
        }
      },
      "source": [
        "rf.fit(x_train,y_train)"
      ],
      "execution_count": null,
      "outputs": [
        {
          "output_type": "execute_result",
          "data": {
            "text/plain": [
              "RandomForestRegressor(bootstrap=True, ccp_alpha=0.0, criterion='mse',\n",
              "                      max_depth=None, max_features='auto', max_leaf_nodes=None,\n",
              "                      max_samples=None, min_impurity_decrease=0.0,\n",
              "                      min_impurity_split=None, min_samples_leaf=3,\n",
              "                      min_samples_split=2, min_weight_fraction_leaf=0.0,\n",
              "                      n_estimators=206, n_jobs=None, oob_score=False,\n",
              "                      random_state=None, verbose=0, warm_start=False)"
            ]
          },
          "metadata": {
            "tags": []
          },
          "execution_count": 17
        }
      ]
    },
    {
      "cell_type": "code",
      "metadata": {
        "id": "ymnGCG0OsImI",
        "outputId": "c980bab6-9a86-4fd3-f1fb-ddfe92ae0408",
        "colab": {
          "base_uri": "https://localhost:8080/",
          "height": 33
        }
      },
      "source": [
        "rf.score(x_test,y_test)"
      ],
      "execution_count": null,
      "outputs": [
        {
          "output_type": "execute_result",
          "data": {
            "text/plain": [
              "0.8222810384253783"
            ]
          },
          "metadata": {
            "tags": []
          },
          "execution_count": 18
        }
      ]
    }
  ]
}